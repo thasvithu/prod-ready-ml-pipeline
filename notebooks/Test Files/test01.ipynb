{
 "cells": [
  {
   "cell_type": "code",
   "execution_count": 6,
   "id": "c556f16e",
   "metadata": {},
   "outputs": [],
   "source": [
    "from typing import List"
   ]
  },
  {
   "cell_type": "code",
   "execution_count": null,
   "id": "6ac742ab",
   "metadata": {},
   "outputs": [],
   "source": [
    "def get_requirements(file_path: str)-> List[str]:\n",
    "    with open(file_path, 'r') as file:\n",
    "        requirements = file.readlines()\n",
    "    return [req.replace(\"\\n\", \"\") for req in requirements]"
   ]
  },
  {
   "cell_type": "code",
   "execution_count": 22,
   "id": "9f86c49c",
   "metadata": {},
   "outputs": [
    {
     "data": {
      "text/plain": [
       "['pandas', 'numpy', 'seaborn ']"
      ]
     },
     "execution_count": 22,
     "metadata": {},
     "output_type": "execute_result"
    }
   ],
   "source": [
    "get_requirements(\"../requirements.txt\")"
   ]
  },
  {
   "cell_type": "code",
   "execution_count": 25,
   "id": "aaa878c1",
   "metadata": {},
   "outputs": [
    {
     "name": "stdout",
     "output_type": "stream",
     "text": [
      "pandas\n",
      "numpy\n",
      "seaborn\n",
      "-e .\n"
     ]
    }
   ],
   "source": [
    "with open(\"../requirements.txt\", 'r') as file:\n",
    "    for line in file:\n",
    "        print(line.strip())"
   ]
  },
  {
   "cell_type": "code",
   "execution_count": null,
   "id": "c4d8a75a",
   "metadata": {},
   "outputs": [],
   "source": [
    "-e ."
   ]
  },
  {
   "cell_type": "code",
   "execution_count": 1,
   "id": "27e956d0",
   "metadata": {},
   "outputs": [
    {
     "name": "stdout",
     "output_type": "stream",
     "text": [
      "Default Error: division by zero\n"
     ]
    }
   ],
   "source": [
    "\n"
   ]
  },
  {
   "cell_type": "code",
   "execution_count": 2,
   "id": "2c3efe79",
   "metadata": {},
   "outputs": [
    {
     "name": "stdout",
     "output_type": "stream",
     "text": [
      "Custom Error: Error occurred in Python script name [C:\\Users\\Admin\\AppData\\Local\\Temp\\ipykernel_7912\\2349712779.py] line number [5] error message [Something went wrong!]\n"
     ]
    }
   ],
   "source": [
    "from src.exception import CustomException\n",
    "import sys\n",
    "\n",
    "try:\n",
    "    x = 10 / 0\n",
    "except Exception as e:\n",
    "    error = CustomException(\"Something went wrong!\", sys)\n",
    "    print(\"Custom Error:\", error)"
   ]
  },
  {
   "cell_type": "code",
   "execution_count": 4,
   "id": "da41d8b7",
   "metadata": {},
   "outputs": [
    {
     "data": {
      "text/plain": [
       "'g:\\\\Data Science\\\\Projects\\\\prod-ready-ml-pipeline\\\\noteboks'"
      ]
     },
     "execution_count": 4,
     "metadata": {},
     "output_type": "execute_result"
    }
   ],
   "source": [
    "import os\n",
    "os.getcwd()"
   ]
  },
  {
   "cell_type": "code",
   "execution_count": 15,
   "id": "9e58b22d",
   "metadata": {},
   "outputs": [
    {
     "data": {
      "text/plain": [
       "datetime.datetime(2025, 7, 16, 16, 23, 45, 720930)"
      ]
     },
     "execution_count": 15,
     "metadata": {},
     "output_type": "execute_result"
    }
   ],
   "source": [
    "from datetime import datetime\n",
    "datetime.now()"
   ]
  },
  {
   "cell_type": "code",
   "execution_count": 23,
   "id": "bd148d06",
   "metadata": {},
   "outputs": [
    {
     "data": {
      "text/plain": [
       "'2025_07_16_16_26_17.log'"
      ]
     },
     "execution_count": 23,
     "metadata": {},
     "output_type": "execute_result"
    }
   ],
   "source": [
    "LOG_FILE = f\"{datetime.now().strftime('%Y_%m_%d_%H_%M_%S')}.log\"\n",
    "LOG_FILE"
   ]
  },
  {
   "cell_type": "code",
   "execution_count": 27,
   "id": "4765ba34",
   "metadata": {},
   "outputs": [
    {
     "data": {
      "text/plain": [
       "'g:\\\\Data Science\\\\Projects\\\\prod-ready-ml-pipeline\\\\noteboks\\\\logs\\\\2025_07_16_16_26_17.log'"
      ]
     },
     "execution_count": 27,
     "metadata": {},
     "output_type": "execute_result"
    }
   ],
   "source": [
    "logs_path = os.path.join(os.getcwd(), \"logs\", LOG_FILE)\n",
    "logs_path\n"
   ]
  },
  {
   "cell_type": "code",
   "execution_count": 30,
   "id": "f9c29a5a",
   "metadata": {},
   "outputs": [],
   "source": [
    "os.makedirs(logs_path, exist_ok=True)"
   ]
  },
  {
   "cell_type": "code",
   "execution_count": 31,
   "id": "f3d961ed",
   "metadata": {},
   "outputs": [
    {
     "data": {
      "text/plain": [
       "'g:\\\\Data Science\\\\Projects\\\\prod-ready-ml-pipeline\\\\noteboks\\\\logs\\\\2025_07_16_16_26_17.log\\\\2025_07_16_16_26_17.log'"
      ]
     },
     "execution_count": 31,
     "metadata": {},
     "output_type": "execute_result"
    }
   ],
   "source": [
    "LOG_FILE_PATH = os.path.join(logs_path, LOG_FILE)\n",
    "LOG_FILE_PATH"
   ]
  },
  {
   "cell_type": "code",
   "execution_count": 8,
   "id": "8629fbe6",
   "metadata": {},
   "outputs": [
    {
     "ename": "TypeError",
     "evalue": "__init__() takes 2 positional arguments but 3 were given",
     "output_type": "error",
     "traceback": [
      "\u001b[1;31m---------------------------------------------------------------------------\u001b[0m",
      "\u001b[1;31mZeroDivisionError\u001b[0m                         Traceback (most recent call last)",
      "Cell \u001b[1;32mIn[8], line 5\u001b[0m\n\u001b[0;32m      4\u001b[0m \u001b[38;5;28;01mtry\u001b[39;00m:\n\u001b[1;32m----> 5\u001b[0m     x \u001b[38;5;241m=\u001b[39m \u001b[38;5;241;43m10\u001b[39;49m\u001b[43m \u001b[49m\u001b[38;5;241;43m/\u001b[39;49m\u001b[43m \u001b[49m\u001b[38;5;241;43m0\u001b[39;49m\n\u001b[0;32m      6\u001b[0m \u001b[38;5;28;01mexcept\u001b[39;00m \u001b[38;5;167;01mException\u001b[39;00m \u001b[38;5;28;01mas\u001b[39;00m e:\n",
      "\u001b[1;31mZeroDivisionError\u001b[0m: division by zero",
      "\nDuring handling of the above exception, another exception occurred:\n",
      "\u001b[1;31mTypeError\u001b[0m                                 Traceback (most recent call last)",
      "Cell \u001b[1;32mIn[8], line 7\u001b[0m\n\u001b[0;32m      5\u001b[0m     x \u001b[38;5;241m=\u001b[39m \u001b[38;5;241m10\u001b[39m \u001b[38;5;241m/\u001b[39m \u001b[38;5;241m0\u001b[39m\n\u001b[0;32m      6\u001b[0m \u001b[38;5;28;01mexcept\u001b[39;00m \u001b[38;5;167;01mException\u001b[39;00m \u001b[38;5;28;01mas\u001b[39;00m e:\n\u001b[1;32m----> 7\u001b[0m     error \u001b[38;5;241m=\u001b[39m \u001b[43mCustomException\u001b[49m\u001b[43m(\u001b[49m\u001b[38;5;124;43m\"\u001b[39;49m\u001b[38;5;124;43mSomething went wrong!\u001b[39;49m\u001b[38;5;124;43m\"\u001b[39;49m\u001b[43m,\u001b[49m\u001b[43m \u001b[49m\u001b[43msys\u001b[49m\u001b[43m)\u001b[49m\n\u001b[0;32m      8\u001b[0m     \u001b[38;5;28mprint\u001b[39m(\u001b[38;5;124m\"\u001b[39m\u001b[38;5;124mCustom Error:\u001b[39m\u001b[38;5;124m\"\u001b[39m, error)\n",
      "\u001b[1;31mTypeError\u001b[0m: __init__() takes 2 positional arguments but 3 were given"
     ]
    }
   ],
   "source": [
    "from src.exception import CustomException\n",
    "import sys\n",
    "\n",
    "try:\n",
    "    x = 10 / 0\n",
    "except Exception as e:\n",
    "    error = CustomException(\"Something went wrong!\", sys)\n",
    "    print(\"Custom Error:\", error)"
   ]
  },
  {
   "cell_type": "code",
   "execution_count": 1,
   "id": "1b72a2b0",
   "metadata": {},
   "outputs": [
    {
     "name": "stdout",
     "output_type": "stream",
     "text": [
      "Exception type: <class 'ZeroDivisionError'>\n",
      "Exception value: division by zero\n",
      "Filename: C:\\Users\\Admin\\AppData\\Local\\Temp\\ipykernel_40624\\2089433319.py\n",
      "Line number: 4\n"
     ]
    }
   ],
   "source": [
    "import sys\n",
    "\n",
    "try:\n",
    "    1 / 0\n",
    "except Exception:\n",
    "    exc_type, exc_value, exc_tb = sys.exc_info()\n",
    "    print(\"Exception type:\", exc_type)\n",
    "    print(\"Exception value:\", exc_value)\n",
    "    print(\"Filename:\", exc_tb.tb_frame.f_code.co_filename)\n",
    "    print(\"Line number:\", exc_tb.tb_lineno)\n"
   ]
  },
  {
   "cell_type": "code",
   "execution_count": 17,
   "id": "1149204a",
   "metadata": {},
   "outputs": [
    {
     "ename": "CustomException",
     "evalue": "Error occurred in Python script name [C:\\Users\\Admin\\AppData\\Local\\Temp\\ipykernel_40624\\1000293485.py] line number [5] error message [division by zero]",
     "output_type": "error",
     "traceback": [
      "\u001b[1;31m---------------------------------------------------------------------------\u001b[0m",
      "\u001b[1;31mZeroDivisionError\u001b[0m                         Traceback (most recent call last)",
      "Cell \u001b[1;32mIn[17], line 5\u001b[0m\n\u001b[0;32m      4\u001b[0m \u001b[38;5;28;01mtry\u001b[39;00m:\n\u001b[1;32m----> 5\u001b[0m     x \u001b[38;5;241m=\u001b[39m \u001b[38;5;241;43m10\u001b[39;49m\u001b[43m \u001b[49m\u001b[38;5;241;43m/\u001b[39;49m\u001b[43m \u001b[49m\u001b[38;5;241;43m0\u001b[39;49m\n\u001b[0;32m      6\u001b[0m \u001b[38;5;28;01mexcept\u001b[39;00m \u001b[38;5;167;01mException\u001b[39;00m \u001b[38;5;28;01mas\u001b[39;00m e:\n",
      "\u001b[1;31mZeroDivisionError\u001b[0m: division by zero",
      "\nDuring handling of the above exception, another exception occurred:\n",
      "\u001b[1;31mCustomException\u001b[0m                           Traceback (most recent call last)",
      "Cell \u001b[1;32mIn[17], line 7\u001b[0m\n\u001b[0;32m      5\u001b[0m     x \u001b[38;5;241m=\u001b[39m \u001b[38;5;241m10\u001b[39m \u001b[38;5;241m/\u001b[39m \u001b[38;5;241m0\u001b[39m\n\u001b[0;32m      6\u001b[0m \u001b[38;5;28;01mexcept\u001b[39;00m \u001b[38;5;167;01mException\u001b[39;00m \u001b[38;5;28;01mas\u001b[39;00m e:\n\u001b[1;32m----> 7\u001b[0m     \u001b[38;5;28;01mraise\u001b[39;00m CustomException(e)\n",
      "\u001b[1;31mCustomException\u001b[0m: Error occurred in Python script name [C:\\Users\\Admin\\AppData\\Local\\Temp\\ipykernel_40624\\1000293485.py] line number [5] error message [division by zero]"
     ]
    }
   ],
   "source": [
    "from src.exception import CustomException\n",
    "import sys\n",
    "\n",
    "try:\n",
    "    x = 10 / 0\n",
    "except Exception as e:\n",
    "    raise CustomException(e)\n",
    "    "
   ]
  },
  {
   "cell_type": "code",
   "execution_count": null,
   "id": "0c14f4bf",
   "metadata": {},
   "outputs": [],
   "source": []
  }
 ],
 "metadata": {
  "kernelspec": {
   "display_name": "Python 3",
   "language": "python",
   "name": "python3"
  },
  "language_info": {
   "codemirror_mode": {
    "name": "ipython",
    "version": 3
   },
   "file_extension": ".py",
   "mimetype": "text/x-python",
   "name": "python",
   "nbconvert_exporter": "python",
   "pygments_lexer": "ipython3",
   "version": "3.8.20"
  }
 },
 "nbformat": 4,
 "nbformat_minor": 5
}
