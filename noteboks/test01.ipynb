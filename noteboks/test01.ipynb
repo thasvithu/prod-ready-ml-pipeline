{
 "cells": [
  {
   "cell_type": "code",
   "execution_count": 6,
   "id": "c556f16e",
   "metadata": {},
   "outputs": [],
   "source": [
    "from typing import List"
   ]
  },
  {
   "cell_type": "code",
   "execution_count": null,
   "id": "6ac742ab",
   "metadata": {},
   "outputs": [],
   "source": [
    "def get_requirements(file_path: str)-> List[str]:\n",
    "    with open(file_path, 'r') as file:\n",
    "        requirements = file.readlines()\n",
    "    return [req.replace(\"\\n\", \"\") for req in requirements]"
   ]
  },
  {
   "cell_type": "code",
   "execution_count": 22,
   "id": "9f86c49c",
   "metadata": {},
   "outputs": [
    {
     "data": {
      "text/plain": [
       "['pandas', 'numpy', 'seaborn ']"
      ]
     },
     "execution_count": 22,
     "metadata": {},
     "output_type": "execute_result"
    }
   ],
   "source": [
    "get_requirements(\"../requirements.txt\")"
   ]
  },
  {
   "cell_type": "code",
   "execution_count": 25,
   "id": "aaa878c1",
   "metadata": {},
   "outputs": [
    {
     "name": "stdout",
     "output_type": "stream",
     "text": [
      "pandas\n",
      "numpy\n",
      "seaborn\n",
      "-e .\n"
     ]
    }
   ],
   "source": [
    "with open(\"../requirements.txt\", 'r') as file:\n",
    "    for line in file:\n",
    "        print(line.strip())"
   ]
  },
  {
   "cell_type": "code",
   "execution_count": null,
   "id": "c4d8a75a",
   "metadata": {},
   "outputs": [],
   "source": [
    "-e ."
   ]
  },
  {
   "cell_type": "code",
   "execution_count": 1,
   "id": "27e956d0",
   "metadata": {},
   "outputs": [
    {
     "name": "stdout",
     "output_type": "stream",
     "text": [
      "Default Error: division by zero\n"
     ]
    }
   ],
   "source": [
    "\n"
   ]
  },
  {
   "cell_type": "code",
   "execution_count": 2,
   "id": "2c3efe79",
   "metadata": {},
   "outputs": [
    {
     "name": "stdout",
     "output_type": "stream",
     "text": [
      "Custom Error: Error occurred in Python script name [C:\\Users\\Admin\\AppData\\Local\\Temp\\ipykernel_7912\\2349712779.py] line number [5] error message [Something went wrong!]\n"
     ]
    }
   ],
   "source": [
    "from src.exception import CustomException\n",
    "import sys\n",
    "\n",
    "try:\n",
    "    x = 10 / 0\n",
    "except Exception as e:\n",
    "    error = CustomException(\"Something went wrong!\", sys)\n",
    "    print(\"Custom Error:\", error)"
   ]
  },
  {
   "cell_type": "code",
   "execution_count": 4,
   "id": "da41d8b7",
   "metadata": {},
   "outputs": [
    {
     "data": {
      "text/plain": [
       "'g:\\\\Data Science\\\\Projects\\\\prod-ready-ml-pipeline\\\\noteboks'"
      ]
     },
     "execution_count": 4,
     "metadata": {},
     "output_type": "execute_result"
    }
   ],
   "source": [
    "import os\n",
    "os.getcwd()"
   ]
  },
  {
   "cell_type": "code",
   "execution_count": 15,
   "id": "9e58b22d",
   "metadata": {},
   "outputs": [
    {
     "data": {
      "text/plain": [
       "datetime.datetime(2025, 7, 16, 16, 23, 45, 720930)"
      ]
     },
     "execution_count": 15,
     "metadata": {},
     "output_type": "execute_result"
    }
   ],
   "source": [
    "from datetime import datetime\n",
    "datetime.now()"
   ]
  },
  {
   "cell_type": "code",
   "execution_count": 23,
   "id": "bd148d06",
   "metadata": {},
   "outputs": [
    {
     "data": {
      "text/plain": [
       "'2025_07_16_16_26_17.log'"
      ]
     },
     "execution_count": 23,
     "metadata": {},
     "output_type": "execute_result"
    }
   ],
   "source": [
    "LOG_FILE = f\"{datetime.now().strftime('%Y_%m_%d_%H_%M_%S')}.log\"\n",
    "LOG_FILE"
   ]
  },
  {
   "cell_type": "code",
   "execution_count": 27,
   "id": "4765ba34",
   "metadata": {},
   "outputs": [
    {
     "data": {
      "text/plain": [
       "'g:\\\\Data Science\\\\Projects\\\\prod-ready-ml-pipeline\\\\noteboks\\\\logs\\\\2025_07_16_16_26_17.log'"
      ]
     },
     "execution_count": 27,
     "metadata": {},
     "output_type": "execute_result"
    }
   ],
   "source": [
    "logs_path = os.path.join(os.getcwd(), \"logs\", LOG_FILE)\n",
    "logs_path\n"
   ]
  },
  {
   "cell_type": "code",
   "execution_count": 30,
   "id": "f9c29a5a",
   "metadata": {},
   "outputs": [],
   "source": [
    "os.makedirs(logs_path, exist_ok=True)"
   ]
  },
  {
   "cell_type": "code",
   "execution_count": 31,
   "id": "f3d961ed",
   "metadata": {},
   "outputs": [
    {
     "data": {
      "text/plain": [
       "'g:\\\\Data Science\\\\Projects\\\\prod-ready-ml-pipeline\\\\noteboks\\\\logs\\\\2025_07_16_16_26_17.log\\\\2025_07_16_16_26_17.log'"
      ]
     },
     "execution_count": 31,
     "metadata": {},
     "output_type": "execute_result"
    }
   ],
   "source": [
    "LOG_FILE_PATH = os.path.join(logs_path, LOG_FILE)\n",
    "LOG_FILE_PATH"
   ]
  },
  {
   "cell_type": "code",
   "execution_count": null,
   "id": "8629fbe6",
   "metadata": {},
   "outputs": [],
   "source": []
  }
 ],
 "metadata": {
  "kernelspec": {
   "display_name": "Python 3",
   "language": "python",
   "name": "python3"
  },
  "language_info": {
   "codemirror_mode": {
    "name": "ipython",
    "version": 3
   },
   "file_extension": ".py",
   "mimetype": "text/x-python",
   "name": "python",
   "nbconvert_exporter": "python",
   "pygments_lexer": "ipython3",
   "version": "3.8.20"
  }
 },
 "nbformat": 4,
 "nbformat_minor": 5
}
