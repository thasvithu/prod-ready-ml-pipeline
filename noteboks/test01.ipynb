{
 "cells": [
  {
   "cell_type": "code",
   "execution_count": 6,
   "id": "c556f16e",
   "metadata": {},
   "outputs": [],
   "source": [
    "from typing import List"
   ]
  },
  {
   "cell_type": "code",
   "execution_count": null,
   "id": "6ac742ab",
   "metadata": {},
   "outputs": [],
   "source": [
    "def get_requirements(file_path: str)-> List[str]:\n",
    "    with open(file_path, 'r') as file:\n",
    "        requirements = file.readlines()\n",
    "    return [req.replace(\"\\n\", \"\") for req in requirements]"
   ]
  },
  {
   "cell_type": "code",
   "execution_count": 22,
   "id": "9f86c49c",
   "metadata": {},
   "outputs": [
    {
     "data": {
      "text/plain": [
       "['pandas', 'numpy', 'seaborn ']"
      ]
     },
     "execution_count": 22,
     "metadata": {},
     "output_type": "execute_result"
    }
   ],
   "source": [
    "get_requirements(\"../requirements.txt\")"
   ]
  },
  {
   "cell_type": "code",
   "execution_count": 25,
   "id": "aaa878c1",
   "metadata": {},
   "outputs": [
    {
     "name": "stdout",
     "output_type": "stream",
     "text": [
      "pandas\n",
      "numpy\n",
      "seaborn\n",
      "-e .\n"
     ]
    }
   ],
   "source": [
    "with open(\"../requirements.txt\", 'r') as file:\n",
    "    for line in file:\n",
    "        print(line.strip())"
   ]
  },
  {
   "cell_type": "code",
   "execution_count": null,
   "id": "c4d8a75a",
   "metadata": {},
   "outputs": [],
   "source": [
    "-e ."
   ]
  },
  {
   "cell_type": "code",
   "execution_count": 1,
   "id": "27e956d0",
   "metadata": {},
   "outputs": [
    {
     "name": "stdout",
     "output_type": "stream",
     "text": [
      "Default Error: division by zero\n"
     ]
    }
   ],
   "source": [
    "\n"
   ]
  },
  {
   "cell_type": "code",
   "execution_count": 2,
   "id": "2c3efe79",
   "metadata": {},
   "outputs": [
    {
     "name": "stdout",
     "output_type": "stream",
     "text": [
      "Custom Error: Error occurred in Python script name [C:\\Users\\Admin\\AppData\\Local\\Temp\\ipykernel_7912\\2349712779.py] line number [5] error message [Something went wrong!]\n"
     ]
    }
   ],
   "source": [
    "from src.exception import CustomException\n",
    "import sys\n",
    "\n",
    "try:\n",
    "    x = 10 / 0\n",
    "except Exception as e:\n",
    "    error = CustomException(\"Something went wrong!\", sys)\n",
    "    print(\"Custom Error:\", error)"
   ]
  },
  {
   "cell_type": "code",
   "execution_count": null,
   "id": "da41d8b7",
   "metadata": {},
   "outputs": [],
   "source": []
  }
 ],
 "metadata": {
  "kernelspec": {
   "display_name": "Python 3",
   "language": "python",
   "name": "python3"
  },
  "language_info": {
   "codemirror_mode": {
    "name": "ipython",
    "version": 3
   },
   "file_extension": ".py",
   "mimetype": "text/x-python",
   "name": "python",
   "nbconvert_exporter": "python",
   "pygments_lexer": "ipython3",
   "version": "3.8.20"
  }
 },
 "nbformat": 4,
 "nbformat_minor": 5
}
